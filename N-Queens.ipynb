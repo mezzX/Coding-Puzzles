{
 "cells": [
  {
   "cell_type": "code",
   "execution_count": 1,
   "metadata": {},
   "outputs": [],
   "source": [
    "import numpy as np\n",
    "from timeit import default_timer as timer"
   ]
  },
  {
   "cell_type": "code",
   "execution_count": 2,
   "metadata": {},
   "outputs": [],
   "source": [
    "class NQueens(object):\n",
    "    \n",
    "    def __init__(self, queens=8):\n",
    "        self.queens = queens\n",
    "        self.score = {}\n",
    "        self.board = self.startingArray(self)\n",
    "        \n",
    "    def startingArray(self, queens):\n",
    "        n_array = []\n",
    "        choices = []\n",
    "        for i in range(self.queens):\n",
    "            choices.append(i)\n",
    "        for i in range(self.queens):\n",
    "            row = np.random.choice(choices)\n",
    "            choices.pop(choices.index(row))\n",
    "            n_array.append(row)\n",
    "        return(n_array)\n",
    "\n",
    "    def drawBoard(self):\n",
    "        for r in range(len(self.board)):\n",
    "            row =''\n",
    "            for c in range(len(self.board)):\n",
    "                if r == self.board[c]:\n",
    "                    row += ' Q '\n",
    "                else:\n",
    "                    row += ' . '\n",
    "            print(row)\n",
    "            \n",
    "    def scoreBoard(self, board):\n",
    "        scores = [0] * len(board)\n",
    "        for i in range(len(board)-1):\n",
    "            for j in range(i + 1, len(board)):\n",
    "                if board[i] == board[j]:\n",
    "                    scores[i] += 1\n",
    "                    scores[j] += 1\n",
    "                if abs(i - j) == abs(board[i] - board[j]):\n",
    "                    scores[i] += 1\n",
    "                    scores[j] += 1\n",
    "        return(scores)\n",
    "    \n",
    "    def improveBoard(self, board, col, score):\n",
    "        scores = [0] * len(board)\n",
    "        scores[col] = score\n",
    "        for i in range(len(board)):\n",
    "            if i != board[col]:\n",
    "                for j in range(len(board)):\n",
    "                    if board[j] == i:\n",
    "                        scores[i] += 1\n",
    "                    if abs(j - col) == abs(board[j] - i):\n",
    "                        scores[i] += 1\n",
    "        return(scores.index(np.min(scores)))\n",
    "    \n",
    "    def solve(self):\n",
    "        scores = self.scoreBoard(self.board)\n",
    "        bScore = sum(scores)\n",
    "        steps = 0\n",
    "        restarts = 0\n",
    "        while bScore > 0:\n",
    "            steps += 1\n",
    "            mc_cols = np.where(np.array(scores) == np.max(scores))[0]\n",
    "            n_board = list(self.board)\n",
    "            for col in mc_cols:\n",
    "                imp_col = self.improveBoard(self.board, col, scores[col])       \n",
    "                if imp_col != n_board[col]:\n",
    "                    n_board[col] = imp_col\n",
    "            if self.board == n_board:\n",
    "                self.board = self.startingArray(self)\n",
    "                restarts += 1\n",
    "            else:\n",
    "                self.board = list(n_board)\n",
    "            scores = self.scoreBoard(self.board)\n",
    "            bScore = sum(scores)\n",
    "            #self.drawBoard()\n",
    "            #print(scores)\n",
    "        print(\"score = %d. restarts = %d. steps = %d\" % (bScore, restarts, steps))\n",
    "        return(self.board)"
   ]
  },
  {
   "cell_type": "code",
   "execution_count": 8,
   "metadata": {},
   "outputs": [
    {
     "name": "stdout",
     "output_type": "stream",
     "text": [
      "[10, 0, 4, 5, 9, 8, 11, 13, 1, 7, 6, 3, 12, 2]\n",
      "[10, 0, 4, 5, 9, 8, 11, 13, 1, 7, 6, 3, 12, 2]\n",
      "score = 0. restarts = 324849. steps = 364735\n",
      "105.47777720782005\n",
      "[4, 2, 12, 10, 1, 11, 6, 3, 7, 0, 13, 9, 5, 8]\n",
      "[10, 0, 4, 5, 9, 8, 11, 13, 1, 7, 6, 3, 12, 2]\n",
      "score = 0. restarts = 21092. steps = 25228\n",
      "15.526347326506539\n",
      "[4, 2, 12, 10, 1, 11, 6, 3, 7, 0, 13, 9, 5, 8]\n",
      "[5, 10, 1, 4, 6, 9, 3, 13, 0, 12, 8, 11, 7, 2]\n"
     ]
    }
   ],
   "source": [
    "p1 = NQueens()\n",
    "p1.queens = 14\n",
    "print(p1.board)\n",
    "start = timer()\n",
    "p1.solve()\n",
    "end = timer()\n",
    "print(end - start)\n",
    "print(p1.board)\n",
    "\n",
    "p2 = NQueens()\n",
    "p2.queens = 14\n",
    "print(p2.board)\n",
    "start = timer()\n",
    "p2.solve()\n",
    "end = timer()\n",
    "print(end - start)\n",
    "print(p2.board)"
   ]
  },
  {
   "cell_type": "code",
   "execution_count": null,
   "metadata": {},
   "outputs": [],
   "source": []
  }
 ],
 "metadata": {
  "kernelspec": {
   "display_name": "Python 3",
   "language": "python",
   "name": "python3"
  },
  "language_info": {
   "codemirror_mode": {
    "name": "ipython",
    "version": 3
   },
   "file_extension": ".py",
   "mimetype": "text/x-python",
   "name": "python",
   "nbconvert_exporter": "python",
   "pygments_lexer": "ipython3",
   "version": "3.6.5"
  }
 },
 "nbformat": 4,
 "nbformat_minor": 2
}
