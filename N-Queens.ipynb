{
 "cells": [
  {
   "cell_type": "code",
   "execution_count": 1,
   "metadata": {},
   "outputs": [],
   "source": [
    "import numpy as np"
   ]
  },
  {
   "cell_type": "code",
   "execution_count": 2,
   "metadata": {},
   "outputs": [],
   "source": [
    "def drawBoard(board):\n",
    "    for r in range(len(board)):\n",
    "        row =''\n",
    "        for c in range(len(board)):\n",
    "            if r == board[c]:\n",
    "                row += ' Q '\n",
    "            else:\n",
    "                row += ' . '\n",
    "        print(row)"
   ]
  },
  {
   "cell_type": "code",
   "execution_count": 3,
   "metadata": {},
   "outputs": [],
   "source": [
    "def startingArray(queens=5):\n",
    "    n_array=[]\n",
    "    choices = []\n",
    "    for i in range(queens):\n",
    "        choices.append(i)\n",
    "    for i in range(queens):\n",
    "        row = np.random.choice(choices)\n",
    "        choices.pop(choices.index(row))\n",
    "        n_array.append(row)\n",
    "    \n",
    "    return(n_array)"
   ]
  },
  {
   "cell_type": "code",
   "execution_count": 4,
   "metadata": {},
   "outputs": [],
   "source": [
    "def scoreBoard(board):\n",
    "    scores = [0] * len(board)\n",
    "    for i in range(len(board)-1):\n",
    "        for j in range(i + 1, len(board)):\n",
    "            if board[i] == board[j]:\n",
    "                scores[i] += 1\n",
    "                scores[j] += 1\n",
    "            if abs(i - j) == abs(board[i] - board[j]):\n",
    "                scores[i] += 1\n",
    "                scores[j] += 1\n",
    "    return(scores)"
   ]
  },
  {
   "cell_type": "code",
   "execution_count": 5,
   "metadata": {},
   "outputs": [],
   "source": [
    "def improveBoard(board, col, score):\n",
    "    scores = [0] * len(board)\n",
    "    scores[col] = score\n",
    "    for i in range(len(board)):\n",
    "        if i != board[col]:\n",
    "            for j in range(len(board)):\n",
    "                if board[j] == i:\n",
    "                    scores[i] += 1\n",
    "                if abs(j - col) == abs(board[j] - i):\n",
    "                    scores[i] += 1\n",
    "                    \n",
    "    return(scores.index(np.min(scores)))"
   ]
  },
  {
   "cell_type": "code",
   "execution_count": 13,
   "metadata": {},
   "outputs": [],
   "source": [
    "def solve(board, queens):\n",
    "    scores = scoreBoard(board)\n",
    "    bScore = sum(scores)\n",
    "    steps = 0\n",
    "    restarts = 0\n",
    "    while bScore > 0:\n",
    "        steps += 1\n",
    "        mc_col = scores.index(np.max(scores))\n",
    "        imp_col = improveBoard(board, mc_col, scores[mc_col])       \n",
    "        if imp_col == board[mc_col]:\n",
    "            board = startingArray(queens)\n",
    "            restarts += 1\n",
    "        else:\n",
    "            board[mc_col] = imp_col\n",
    "        scores = scoreBoard(board)\n",
    "        bScore = sum(scores)\n",
    "        #drawBoard(board=board)\n",
    "        #print(scores)\n",
    "    print(\"score = %d. restarts = %d. steps = %d\" % (bScore, restarts, steps))\n",
    "    return(board)"
   ]
  },
  {
   "cell_type": "code",
   "execution_count": 14,
   "metadata": {},
   "outputs": [
    {
     "name": "stdout",
     "output_type": "stream",
     "text": [
      "[5, 4, 10, 11, 7, 9, 8, 1, 6, 2, 0, 3]\n",
      " .  .  .  .  .  .  .  .  .  .  Q  . \n",
      " .  .  .  .  .  .  .  Q  .  .  .  . \n",
      " .  .  .  .  .  .  .  .  .  Q  .  . \n",
      " .  .  .  .  .  .  .  .  .  .  .  Q \n",
      " .  Q  .  .  .  .  .  .  .  .  .  . \n",
      " Q  .  .  .  .  .  .  .  .  .  .  . \n",
      " .  .  .  .  .  .  .  .  Q  .  .  . \n",
      " .  .  .  .  Q  .  .  .  .  .  .  . \n",
      " .  .  .  .  .  .  Q  .  .  .  .  . \n",
      " .  .  .  .  .  Q  .  .  .  .  .  . \n",
      " .  .  Q  .  .  .  .  .  .  .  .  . \n",
      " .  .  .  Q  .  .  .  .  .  .  .  . \n",
      "\n",
      "\n",
      "score = 0. restarts = 3539. steps = 4057\n",
      " .  .  .  .  .  .  .  Q  .  .  .  . \n",
      " .  .  .  Q  .  .  .  .  .  .  .  . \n",
      " .  Q  .  .  .  .  .  .  .  .  .  . \n",
      " .  .  .  .  .  .  .  .  Q  .  .  . \n",
      " .  .  .  .  .  Q  .  .  .  .  .  . \n",
      " .  .  .  .  .  .  .  .  .  .  .  Q \n",
      " Q  .  .  .  .  .  .  .  .  .  .  . \n",
      " .  .  .  .  .  .  .  .  .  .  Q  . \n",
      " .  .  .  .  .  .  Q  .  .  .  .  . \n",
      " .  .  .  .  .  .  .  .  .  Q  .  . \n",
      " .  .  Q  .  .  .  .  .  .  .  .  . \n",
      " .  .  .  .  Q  .  .  .  .  .  .  . \n"
     ]
    }
   ],
   "source": [
    "queens = 12\n",
    "board = startingArray(queens)\n",
    "print(board)\n",
    "drawBoard(board)\n",
    "print('\\n')\n",
    "board = solve(board, queens)\n",
    "drawBoard(board)"
   ]
  },
  {
   "cell_type": "code",
   "execution_count": null,
   "metadata": {},
   "outputs": [],
   "source": []
  }
 ],
 "metadata": {
  "kernelspec": {
   "display_name": "Python 3",
   "language": "python",
   "name": "python3"
  },
  "language_info": {
   "codemirror_mode": {
    "name": "ipython",
    "version": 3
   },
   "file_extension": ".py",
   "mimetype": "text/x-python",
   "name": "python",
   "nbconvert_exporter": "python",
   "pygments_lexer": "ipython3",
   "version": "3.6.6"
  }
 },
 "nbformat": 4,
 "nbformat_minor": 2
}
